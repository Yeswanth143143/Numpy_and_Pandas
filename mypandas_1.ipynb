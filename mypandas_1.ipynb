{
 "cells": [
  {
   "cell_type": "markdown",
   "metadata": {},
   "source": [
    "# PANDAS"
   ]
  },
  {
   "cell_type": "code",
   "execution_count": 1,
   "metadata": {},
   "outputs": [],
   "source": [
    "import numpy as np\n",
    "import pandas as pd"
   ]
  },
  {
   "cell_type": "code",
   "execution_count": 3,
   "metadata": {
    "scrolled": false
   },
   "outputs": [],
   "source": [
    "list1=[1,2,3,4,5]\n",
    "arr=np.arange(5)\n",
    "dic={'a':1,'b':2,'c':3,'d':4}\n",
    "list2=['a','b','c','d','e']\n"
   ]
  },
  {
   "cell_type": "markdown",
   "metadata": {},
   "source": [
    "# series \n",
    "\n",
    "->it will creat a index to the data which is given by user. \n",
    "  ->syntax:pd.Series(data,lables).\n",
    "     ->here lables are taken as index."
   ]
  },
  {
   "cell_type": "code",
   "execution_count": 6,
   "metadata": {
    "scrolled": true
   },
   "outputs": [
    {
     "data": {
      "text/plain": [
       "0    1\n",
       "1    2\n",
       "2    3\n",
       "3    4\n",
       "4    5\n",
       "dtype: int64"
      ]
     },
     "execution_count": 6,
     "metadata": {},
     "output_type": "execute_result"
    }
   ],
   "source": [
    "pd.Series(list1)  # here index is generated automatically "
   ]
  },
  {
   "cell_type": "code",
   "execution_count": 9,
   "metadata": {
    "scrolled": false
   },
   "outputs": [
    {
     "data": {
      "text/plain": [
       "a    1\n",
       "b    2\n",
       "c    3\n",
       "d    4\n",
       "e    5\n",
       "dtype: int64"
      ]
     },
     "execution_count": 9,
     "metadata": {},
     "output_type": "execute_result"
    }
   ],
   "source": [
    "pd.Series(list1,list2)  #here the index is taken from the list2"
   ]
  },
  {
   "cell_type": "code",
   "execution_count": 11,
   "metadata": {},
   "outputs": [
    {
     "data": {
      "text/plain": [
       "a    0\n",
       "b    1\n",
       "c    2\n",
       "d    3\n",
       "e    4\n",
       "dtype: int32"
      ]
     },
     "execution_count": 11,
     "metadata": {},
     "output_type": "execute_result"
    }
   ],
   "source": [
    "pd.Series(arr,list2)"
   ]
  },
  {
   "cell_type": "code",
   "execution_count": 14,
   "metadata": {
    "scrolled": false
   },
   "outputs": [
    {
     "data": {
      "text/plain": [
       "a    1\n",
       "b    2\n",
       "c    3\n",
       "d    4\n",
       "dtype: int64"
      ]
     },
     "execution_count": 14,
     "metadata": {},
     "output_type": "execute_result"
    }
   ],
   "source": [
    "pd.Series(dic)"
   ]
  },
  {
   "cell_type": "code",
   "execution_count": 25,
   "metadata": {
    "scrolled": true
   },
   "outputs": [
    {
     "data": {
      "text/plain": [
       "1   NaN\n",
       "2   NaN\n",
       "3   NaN\n",
       "4   NaN\n",
       "dtype: float64"
      ]
     },
     "execution_count": 25,
     "metadata": {},
     "output_type": "execute_result"
    }
   ],
   "source": [
    "my_list=[1,2,3,4]  ##special case for dictionary  \n",
    "\n",
    "pd.Series(dic,my_list)"
   ]
  },
  {
   "cell_type": "code",
   "execution_count": 31,
   "metadata": {},
   "outputs": [
    {
     "data": {
      "text/plain": [
       "0      <built-in function sum>\n",
       "1    <built-in function print>\n",
       "dtype: object"
      ]
     },
     "execution_count": 31,
     "metadata": {},
     "output_type": "execute_result"
    }
   ],
   "source": [
    "methods=[sum,print]   # it will create index for methods\n",
    "pd.Series(methods)"
   ]
  },
  {
   "cell_type": "markdown",
   "metadata": {},
   "source": [
    "# seires indexing"
   ]
  },
  {
   "cell_type": "code",
   "execution_count": 27,
   "metadata": {},
   "outputs": [
    {
     "data": {
      "text/plain": [
       "a    0\n",
       "b    1\n",
       "c    2\n",
       "d    3\n",
       "e    4\n",
       "dtype: int32"
      ]
     },
     "execution_count": 27,
     "metadata": {},
     "output_type": "execute_result"
    }
   ],
   "source": [
    "pdd=pd.Series(arr,list2)\n",
    "pdd"
   ]
  },
  {
   "cell_type": "code",
   "execution_count": 29,
   "metadata": {
    "scrolled": true
   },
   "outputs": [
    {
     "data": {
      "text/plain": [
       "(2, 4)"
      ]
     },
     "execution_count": 29,
     "metadata": {},
     "output_type": "execute_result"
    }
   ],
   "source": [
    "pdd['c'],pdd['e']    # here index should give in correct datatype. Ex :pdd[c]  is wrong in current ex"
   ]
  },
  {
   "cell_type": "markdown",
   "metadata": {},
   "source": [
    "# addition of series"
   ]
  },
  {
   "cell_type": "code",
   "execution_count": 17,
   "metadata": {},
   "outputs": [],
   "source": [
    "list3=['san','nee','mat','pra','lah']   \n",
    "list4=['san','nee','lah','pra','mat']\n",
    "pd1=pd.Series(list1,list3)\n",
    "pd2=pd.Series(list1,list4)"
   ]
  },
  {
   "cell_type": "code",
   "execution_count": 19,
   "metadata": {
    "scrolled": true
   },
   "outputs": [
    {
     "data": {
      "text/plain": [
       "san    1\n",
       "nee    2\n",
       "mat    3\n",
       "pra    4\n",
       "lah    5\n",
       "dtype: int64"
      ]
     },
     "execution_count": 19,
     "metadata": {},
     "output_type": "execute_result"
    }
   ],
   "source": [
    "pd1   "
   ]
  },
  {
   "cell_type": "code",
   "execution_count": 20,
   "metadata": {},
   "outputs": [
    {
     "data": {
      "text/plain": [
       "san    1\n",
       "nee    2\n",
       "lah    3\n",
       "pra    4\n",
       "mat    5\n",
       "dtype: int64"
      ]
     },
     "execution_count": 20,
     "metadata": {},
     "output_type": "execute_result"
    }
   ],
   "source": [
    "pd2"
   ]
  },
  {
   "cell_type": "code",
   "execution_count": 21,
   "metadata": {},
   "outputs": [
    {
     "data": {
      "text/plain": [
       "lah    8\n",
       "mat    8\n",
       "nee    4\n",
       "pra    8\n",
       "san    2\n",
       "dtype: int64"
      ]
     },
     "execution_count": 21,
     "metadata": {},
     "output_type": "execute_result"
    }
   ],
   "source": [
    "pd1+pd2     # if indexes are not matched then it will rise as nan"
   ]
  },
  {
   "cell_type": "markdown",
   "metadata": {},
   "source": [
    "# dataframes"
   ]
  },
  {
   "cell_type": "code",
   "execution_count": 26,
   "metadata": {
    "scrolled": true
   },
   "outputs": [],
   "source": [
    "from numpy.random import randn"
   ]
  },
  {
   "cell_type": "code",
   "execution_count": 27,
   "metadata": {
    "scrolled": true
   },
   "outputs": [
    {
     "data": {
      "text/html": [
       "<div>\n",
       "<style scoped>\n",
       "    .dataframe tbody tr th:only-of-type {\n",
       "        vertical-align: middle;\n",
       "    }\n",
       "\n",
       "    .dataframe tbody tr th {\n",
       "        vertical-align: top;\n",
       "    }\n",
       "\n",
       "    .dataframe thead th {\n",
       "        text-align: right;\n",
       "    }\n",
       "</style>\n",
       "<table border=\"1\" class=\"dataframe\">\n",
       "  <thead>\n",
       "    <tr style=\"text-align: right;\">\n",
       "      <th></th>\n",
       "      <th>x</th>\n",
       "      <th>y</th>\n",
       "      <th>z</th>\n",
       "      <th>w</th>\n",
       "    </tr>\n",
       "  </thead>\n",
       "  <tbody>\n",
       "    <tr>\n",
       "      <th>a</th>\n",
       "      <td>0.441808</td>\n",
       "      <td>-1.171174</td>\n",
       "      <td>0.126139</td>\n",
       "      <td>-1.755456</td>\n",
       "    </tr>\n",
       "    <tr>\n",
       "      <th>b</th>\n",
       "      <td>-0.159662</td>\n",
       "      <td>1.218003</td>\n",
       "      <td>0.154944</td>\n",
       "      <td>0.733014</td>\n",
       "    </tr>\n",
       "    <tr>\n",
       "      <th>c</th>\n",
       "      <td>0.553919</td>\n",
       "      <td>1.051009</td>\n",
       "      <td>1.554044</td>\n",
       "      <td>0.335496</td>\n",
       "    </tr>\n",
       "    <tr>\n",
       "      <th>d</th>\n",
       "      <td>-0.672600</td>\n",
       "      <td>-0.828545</td>\n",
       "      <td>0.646868</td>\n",
       "      <td>-0.409521</td>\n",
       "    </tr>\n",
       "    <tr>\n",
       "      <th>e</th>\n",
       "      <td>0.199671</td>\n",
       "      <td>0.684740</td>\n",
       "      <td>1.353617</td>\n",
       "      <td>-0.300989</td>\n",
       "    </tr>\n",
       "    <tr>\n",
       "      <th>r</th>\n",
       "      <td>-0.606764</td>\n",
       "      <td>-0.459250</td>\n",
       "      <td>-1.358167</td>\n",
       "      <td>1.336416</td>\n",
       "    </tr>\n",
       "  </tbody>\n",
       "</table>\n",
       "</div>"
      ],
      "text/plain": [
       "          x         y         z         w\n",
       "a  0.441808 -1.171174  0.126139 -1.755456\n",
       "b -0.159662  1.218003  0.154944  0.733014\n",
       "c  0.553919  1.051009  1.554044  0.335496\n",
       "d -0.672600 -0.828545  0.646868 -0.409521\n",
       "e  0.199671  0.684740  1.353617 -0.300989\n",
       "r -0.606764 -0.459250 -1.358167  1.336416"
      ]
     },
     "execution_count": 27,
     "metadata": {},
     "output_type": "execute_result"
    }
   ],
   "source": [
    "df=pd.DataFrame(randn(6,4),['a','b','c','d','e','r'],['x','y','z','w'])\n",
    "df"
   ]
  },
  {
   "cell_type": "code",
   "execution_count": 20,
   "metadata": {
    "scrolled": true
   },
   "outputs": [
    {
     "data": {
      "text/plain": [
       "a    0.649148\n",
       "b    0.161781\n",
       "c    0.783316\n",
       "d    0.677535\n",
       "e   -0.532471\n",
       "r    0.729024\n",
       "Name: x, dtype: float64"
      ]
     },
     "execution_count": 20,
     "metadata": {},
     "output_type": "execute_result"
    }
   ],
   "source": [
    "df ['x']   # selecting of the columns \n",
    " "
   ]
  },
  {
   "cell_type": "code",
   "execution_count": 27,
   "metadata": {
    "scrolled": true
   },
   "outputs": [
    {
     "data": {
      "text/html": [
       "<div>\n",
       "<style scoped>\n",
       "    .dataframe tbody tr th:only-of-type {\n",
       "        vertical-align: middle;\n",
       "    }\n",
       "\n",
       "    .dataframe tbody tr th {\n",
       "        vertical-align: top;\n",
       "    }\n",
       "\n",
       "    .dataframe thead th {\n",
       "        text-align: right;\n",
       "    }\n",
       "</style>\n",
       "<table border=\"1\" class=\"dataframe\">\n",
       "  <thead>\n",
       "    <tr style=\"text-align: right;\">\n",
       "      <th></th>\n",
       "      <th>x</th>\n",
       "      <th>y</th>\n",
       "    </tr>\n",
       "  </thead>\n",
       "  <tbody>\n",
       "    <tr>\n",
       "      <th>a</th>\n",
       "      <td>-0.981897</td>\n",
       "      <td>-0.088376</td>\n",
       "    </tr>\n",
       "    <tr>\n",
       "      <th>b</th>\n",
       "      <td>-0.170910</td>\n",
       "      <td>-0.095199</td>\n",
       "    </tr>\n",
       "    <tr>\n",
       "      <th>c</th>\n",
       "      <td>-1.042289</td>\n",
       "      <td>-0.381743</td>\n",
       "    </tr>\n",
       "    <tr>\n",
       "      <th>d</th>\n",
       "      <td>0.181051</td>\n",
       "      <td>0.141611</td>\n",
       "    </tr>\n",
       "    <tr>\n",
       "      <th>e</th>\n",
       "      <td>0.301328</td>\n",
       "      <td>0.990051</td>\n",
       "    </tr>\n",
       "    <tr>\n",
       "      <th>r</th>\n",
       "      <td>-1.270508</td>\n",
       "      <td>-0.937949</td>\n",
       "    </tr>\n",
       "  </tbody>\n",
       "</table>\n",
       "</div>"
      ],
      "text/plain": [
       "          x         y\n",
       "a -0.981897 -0.088376\n",
       "b -0.170910 -0.095199\n",
       "c -1.042289 -0.381743\n",
       "d  0.181051  0.141611\n",
       "e  0.301328  0.990051\n",
       "r -1.270508 -0.937949"
      ]
     },
     "execution_count": 27,
     "metadata": {},
     "output_type": "execute_result"
    }
   ],
   "source": [
    "df[['x','y']]    # selecting of the two or more columns"
   ]
  },
  {
   "cell_type": "code",
   "execution_count": 28,
   "metadata": {},
   "outputs": [
    {
     "data": {
      "text/plain": [
       "x   -0.981897\n",
       "y   -0.088376\n",
       "z   -0.005970\n",
       "w    0.359671\n",
       "Name: a, dtype: float64"
      ]
     },
     "execution_count": 28,
     "metadata": {},
     "output_type": "execute_result"
    }
   ],
   "source": [
    "df.loc['a']   # selecting of the rows "
   ]
  },
  {
   "cell_type": "code",
   "execution_count": 29,
   "metadata": {
    "scrolled": true
   },
   "outputs": [
    {
     "data": {
      "text/html": [
       "<div>\n",
       "<style scoped>\n",
       "    .dataframe tbody tr th:only-of-type {\n",
       "        vertical-align: middle;\n",
       "    }\n",
       "\n",
       "    .dataframe tbody tr th {\n",
       "        vertical-align: top;\n",
       "    }\n",
       "\n",
       "    .dataframe thead th {\n",
       "        text-align: right;\n",
       "    }\n",
       "</style>\n",
       "<table border=\"1\" class=\"dataframe\">\n",
       "  <thead>\n",
       "    <tr style=\"text-align: right;\">\n",
       "      <th></th>\n",
       "      <th>x</th>\n",
       "      <th>y</th>\n",
       "      <th>z</th>\n",
       "      <th>w</th>\n",
       "    </tr>\n",
       "  </thead>\n",
       "  <tbody>\n",
       "    <tr>\n",
       "      <th>a</th>\n",
       "      <td>-0.981897</td>\n",
       "      <td>-0.088376</td>\n",
       "      <td>-0.005970</td>\n",
       "      <td>0.359671</td>\n",
       "    </tr>\n",
       "    <tr>\n",
       "      <th>b</th>\n",
       "      <td>-0.170910</td>\n",
       "      <td>-0.095199</td>\n",
       "      <td>-0.237375</td>\n",
       "      <td>-0.575313</td>\n",
       "    </tr>\n",
       "  </tbody>\n",
       "</table>\n",
       "</div>"
      ],
      "text/plain": [
       "          x         y         z         w\n",
       "a -0.981897 -0.088376 -0.005970  0.359671\n",
       "b -0.170910 -0.095199 -0.237375 -0.575313"
      ]
     },
     "execution_count": 29,
     "metadata": {},
     "output_type": "execute_result"
    }
   ],
   "source": [
    "df.loc[['a','b']]"
   ]
  },
  {
   "cell_type": "code",
   "execution_count": 30,
   "metadata": {
    "scrolled": true
   },
   "outputs": [
    {
     "data": {
      "text/plain": [
       "x    0.181051\n",
       "y    0.141611\n",
       "z   -0.731324\n",
       "w   -0.657143\n",
       "Name: d, dtype: float64"
      ]
     },
     "execution_count": 30,
     "metadata": {},
     "output_type": "execute_result"
    }
   ],
   "source": [
    "df.iloc[3]    # here index 3 is 'd'.selecting the row with the index."
   ]
  },
  {
   "cell_type": "markdown",
   "metadata": {},
   "source": [
    "-> here we can observe that for row 3 we got in series formate .\n",
    "    ->by this we can say that rows and columns are series to each other"
   ]
  },
  {
   "cell_type": "code",
   "execution_count": 21,
   "metadata": {},
   "outputs": [
    {
     "data": {
      "text/plain": [
       "pandas.core.frame.DataFrame"
      ]
     },
     "execution_count": 21,
     "metadata": {},
     "output_type": "execute_result"
    }
   ],
   "source": [
    "type(df)"
   ]
  },
  {
   "cell_type": "markdown",
   "metadata": {},
   "source": [
    "->By this we can understand that a datfram is a collection of series"
   ]
  },
  {
   "cell_type": "markdown",
   "metadata": {},
   "source": [
    "# adding of the data into frame"
   ]
  },
  {
   "cell_type": "code",
   "execution_count": 9,
   "metadata": {
    "scrolled": false
   },
   "outputs": [
    {
     "data": {
      "text/html": [
       "<div>\n",
       "<style scoped>\n",
       "    .dataframe tbody tr th:only-of-type {\n",
       "        vertical-align: middle;\n",
       "    }\n",
       "\n",
       "    .dataframe tbody tr th {\n",
       "        vertical-align: top;\n",
       "    }\n",
       "\n",
       "    .dataframe thead th {\n",
       "        text-align: right;\n",
       "    }\n",
       "</style>\n",
       "<table border=\"1\" class=\"dataframe\">\n",
       "  <thead>\n",
       "    <tr style=\"text-align: right;\">\n",
       "      <th></th>\n",
       "      <th>x</th>\n",
       "      <th>y</th>\n",
       "      <th>z</th>\n",
       "      <th>w</th>\n",
       "      <th>my_data</th>\n",
       "    </tr>\n",
       "  </thead>\n",
       "  <tbody>\n",
       "    <tr>\n",
       "      <th>a</th>\n",
       "      <td>-0.369188</td>\n",
       "      <td>-0.296386</td>\n",
       "      <td>1.172567</td>\n",
       "      <td>0.138636</td>\n",
       "      <td>-0.665574</td>\n",
       "    </tr>\n",
       "    <tr>\n",
       "      <th>b</th>\n",
       "      <td>-0.886657</td>\n",
       "      <td>0.194896</td>\n",
       "      <td>-0.069128</td>\n",
       "      <td>0.199175</td>\n",
       "      <td>-0.691761</td>\n",
       "    </tr>\n",
       "    <tr>\n",
       "      <th>c</th>\n",
       "      <td>-0.983365</td>\n",
       "      <td>-1.271193</td>\n",
       "      <td>1.283515</td>\n",
       "      <td>-1.333776</td>\n",
       "      <td>-2.254558</td>\n",
       "    </tr>\n",
       "    <tr>\n",
       "      <th>d</th>\n",
       "      <td>-1.137353</td>\n",
       "      <td>-1.265731</td>\n",
       "      <td>0.584704</td>\n",
       "      <td>0.007476</td>\n",
       "      <td>-2.403084</td>\n",
       "    </tr>\n",
       "    <tr>\n",
       "      <th>e</th>\n",
       "      <td>-0.890526</td>\n",
       "      <td>1.756792</td>\n",
       "      <td>-0.776518</td>\n",
       "      <td>-0.368937</td>\n",
       "      <td>0.866266</td>\n",
       "    </tr>\n",
       "    <tr>\n",
       "      <th>r</th>\n",
       "      <td>-1.836298</td>\n",
       "      <td>1.011191</td>\n",
       "      <td>2.296990</td>\n",
       "      <td>0.141420</td>\n",
       "      <td>-0.825107</td>\n",
       "    </tr>\n",
       "  </tbody>\n",
       "</table>\n",
       "</div>"
      ],
      "text/plain": [
       "          x         y         z         w   my_data\n",
       "a -0.369188 -0.296386  1.172567  0.138636 -0.665574\n",
       "b -0.886657  0.194896 -0.069128  0.199175 -0.691761\n",
       "c -0.983365 -1.271193  1.283515 -1.333776 -2.254558\n",
       "d -1.137353 -1.265731  0.584704  0.007476 -2.403084\n",
       "e -0.890526  1.756792 -0.776518 -0.368937  0.866266\n",
       "r -1.836298  1.011191  2.296990  0.141420 -0.825107"
      ]
     },
     "execution_count": 9,
     "metadata": {},
     "output_type": "execute_result"
    }
   ],
   "source": [
    "df['my_data']=df['x']+df['y']     # addimg of the data into frame\n",
    "df                                #if we give inplace=tue in adding data my_data will get  permanent in df"
   ]
  },
  {
   "cell_type": "code",
   "execution_count": 30,
   "metadata": {},
   "outputs": [
    {
     "data": {
      "text/html": [
       "<div>\n",
       "<style scoped>\n",
       "    .dataframe tbody tr th:only-of-type {\n",
       "        vertical-align: middle;\n",
       "    }\n",
       "\n",
       "    .dataframe tbody tr th {\n",
       "        vertical-align: top;\n",
       "    }\n",
       "\n",
       "    .dataframe thead th {\n",
       "        text-align: right;\n",
       "    }\n",
       "</style>\n",
       "<table border=\"1\" class=\"dataframe\">\n",
       "  <thead>\n",
       "    <tr style=\"text-align: right;\">\n",
       "      <th></th>\n",
       "      <th>x</th>\n",
       "      <th>y</th>\n",
       "      <th>z</th>\n",
       "      <th>w</th>\n",
       "    </tr>\n",
       "  </thead>\n",
       "  <tbody>\n",
       "    <tr>\n",
       "      <th>a</th>\n",
       "      <td>0.441808</td>\n",
       "      <td>-1.171174</td>\n",
       "      <td>0.126139</td>\n",
       "      <td>-1.755456</td>\n",
       "    </tr>\n",
       "    <tr>\n",
       "      <th>b</th>\n",
       "      <td>-0.159662</td>\n",
       "      <td>1.218003</td>\n",
       "      <td>0.154944</td>\n",
       "      <td>0.733014</td>\n",
       "    </tr>\n",
       "    <tr>\n",
       "      <th>c</th>\n",
       "      <td>0.553919</td>\n",
       "      <td>1.051009</td>\n",
       "      <td>1.554044</td>\n",
       "      <td>0.335496</td>\n",
       "    </tr>\n",
       "    <tr>\n",
       "      <th>d</th>\n",
       "      <td>-0.672600</td>\n",
       "      <td>-0.828545</td>\n",
       "      <td>0.646868</td>\n",
       "      <td>-0.409521</td>\n",
       "    </tr>\n",
       "    <tr>\n",
       "      <th>e</th>\n",
       "      <td>0.199671</td>\n",
       "      <td>0.684740</td>\n",
       "      <td>1.353617</td>\n",
       "      <td>-0.300989</td>\n",
       "    </tr>\n",
       "    <tr>\n",
       "      <th>r</th>\n",
       "      <td>-0.606764</td>\n",
       "      <td>-0.459250</td>\n",
       "      <td>-1.358167</td>\n",
       "      <td>1.336416</td>\n",
       "    </tr>\n",
       "    <tr>\n",
       "      <th>j</th>\n",
       "      <td>0.000000</td>\n",
       "      <td>1.000000</td>\n",
       "      <td>2.000000</td>\n",
       "      <td>3.000000</td>\n",
       "    </tr>\n",
       "    <tr>\n",
       "      <th>k</th>\n",
       "      <td>1.000000</td>\n",
       "      <td>2.000000</td>\n",
       "      <td>3.000000</td>\n",
       "      <td>4.000000</td>\n",
       "    </tr>\n",
       "  </tbody>\n",
       "</table>\n",
       "</div>"
      ],
      "text/plain": [
       "          x         y         z         w\n",
       "a  0.441808 -1.171174  0.126139 -1.755456\n",
       "b -0.159662  1.218003  0.154944  0.733014\n",
       "c  0.553919  1.051009  1.554044  0.335496\n",
       "d -0.672600 -0.828545  0.646868 -0.409521\n",
       "e  0.199671  0.684740  1.353617 -0.300989\n",
       "r -0.606764 -0.459250 -1.358167  1.336416\n",
       "j  0.000000  1.000000  2.000000  3.000000\n",
       "k  1.000000  2.000000  3.000000  4.000000"
      ]
     },
     "execution_count": 30,
     "metadata": {},
     "output_type": "execute_result"
    }
   ],
   "source": [
    "df.loc['j']=np.arange(0,4)\n",
    "df.loc['k']=np.arange(1,5)\n",
    "df\n"
   ]
  },
  {
   "cell_type": "markdown",
   "metadata": {},
   "source": [
    "# deleting data from frame"
   ]
  },
  {
   "cell_type": "code",
   "execution_count": 16,
   "metadata": {
    "scrolled": false
   },
   "outputs": [
    {
     "data": {
      "text/html": [
       "<div>\n",
       "<style scoped>\n",
       "    .dataframe tbody tr th:only-of-type {\n",
       "        vertical-align: middle;\n",
       "    }\n",
       "\n",
       "    .dataframe tbody tr th {\n",
       "        vertical-align: top;\n",
       "    }\n",
       "\n",
       "    .dataframe thead th {\n",
       "        text-align: right;\n",
       "    }\n",
       "</style>\n",
       "<table border=\"1\" class=\"dataframe\">\n",
       "  <thead>\n",
       "    <tr style=\"text-align: right;\">\n",
       "      <th></th>\n",
       "      <th>x</th>\n",
       "      <th>y</th>\n",
       "      <th>w</th>\n",
       "      <th>my_data</th>\n",
       "    </tr>\n",
       "  </thead>\n",
       "  <tbody>\n",
       "    <tr>\n",
       "      <th>a</th>\n",
       "      <td>-0.981897</td>\n",
       "      <td>-0.088376</td>\n",
       "      <td>0.359671</td>\n",
       "      <td>-1.070272</td>\n",
       "    </tr>\n",
       "    <tr>\n",
       "      <th>b</th>\n",
       "      <td>-0.170910</td>\n",
       "      <td>-0.095199</td>\n",
       "      <td>-0.575313</td>\n",
       "      <td>-0.266109</td>\n",
       "    </tr>\n",
       "    <tr>\n",
       "      <th>c</th>\n",
       "      <td>-1.042289</td>\n",
       "      <td>-0.381743</td>\n",
       "      <td>0.190720</td>\n",
       "      <td>-1.424032</td>\n",
       "    </tr>\n",
       "    <tr>\n",
       "      <th>d</th>\n",
       "      <td>0.181051</td>\n",
       "      <td>0.141611</td>\n",
       "      <td>-0.657143</td>\n",
       "      <td>0.322663</td>\n",
       "    </tr>\n",
       "    <tr>\n",
       "      <th>e</th>\n",
       "      <td>0.301328</td>\n",
       "      <td>0.990051</td>\n",
       "      <td>0.621065</td>\n",
       "      <td>1.291379</td>\n",
       "    </tr>\n",
       "    <tr>\n",
       "      <th>r</th>\n",
       "      <td>-1.270508</td>\n",
       "      <td>-0.937949</td>\n",
       "      <td>0.601935</td>\n",
       "      <td>-2.208457</td>\n",
       "    </tr>\n",
       "  </tbody>\n",
       "</table>\n",
       "</div>"
      ],
      "text/plain": [
       "          x         y         w   my_data\n",
       "a -0.981897 -0.088376  0.359671 -1.070272\n",
       "b -0.170910 -0.095199 -0.575313 -0.266109\n",
       "c -1.042289 -0.381743  0.190720 -1.424032\n",
       "d  0.181051  0.141611 -0.657143  0.322663\n",
       "e  0.301328  0.990051  0.621065  1.291379\n",
       "r -1.270508 -0.937949  0.601935 -2.208457"
      ]
     },
     "execution_count": 16,
     "metadata": {},
     "output_type": "execute_result"
    }
   ],
   "source": [
    "df_1=df.drop('z',axis=1)   # here drop is a method to delete columns and rows from the data frame\n",
    "df_1                       #for deleting rows axis is 1"
   ]
  },
  {
   "cell_type": "code",
   "execution_count": 10,
   "metadata": {
    "scrolled": false
   },
   "outputs": [
    {
     "data": {
      "text/html": [
       "<div>\n",
       "<style scoped>\n",
       "    .dataframe tbody tr th:only-of-type {\n",
       "        vertical-align: middle;\n",
       "    }\n",
       "\n",
       "    .dataframe tbody tr th {\n",
       "        vertical-align: top;\n",
       "    }\n",
       "\n",
       "    .dataframe thead th {\n",
       "        text-align: right;\n",
       "    }\n",
       "</style>\n",
       "<table border=\"1\" class=\"dataframe\">\n",
       "  <thead>\n",
       "    <tr style=\"text-align: right;\">\n",
       "      <th></th>\n",
       "      <th>x</th>\n",
       "      <th>y</th>\n",
       "      <th>z</th>\n",
       "      <th>w</th>\n",
       "    </tr>\n",
       "  </thead>\n",
       "  <tbody>\n",
       "    <tr>\n",
       "      <th>a</th>\n",
       "      <td>-0.369188</td>\n",
       "      <td>-0.296386</td>\n",
       "      <td>1.172567</td>\n",
       "      <td>0.138636</td>\n",
       "    </tr>\n",
       "    <tr>\n",
       "      <th>b</th>\n",
       "      <td>-0.886657</td>\n",
       "      <td>0.194896</td>\n",
       "      <td>-0.069128</td>\n",
       "      <td>0.199175</td>\n",
       "    </tr>\n",
       "    <tr>\n",
       "      <th>c</th>\n",
       "      <td>-0.983365</td>\n",
       "      <td>-1.271193</td>\n",
       "      <td>1.283515</td>\n",
       "      <td>-1.333776</td>\n",
       "    </tr>\n",
       "    <tr>\n",
       "      <th>d</th>\n",
       "      <td>-1.137353</td>\n",
       "      <td>-1.265731</td>\n",
       "      <td>0.584704</td>\n",
       "      <td>0.007476</td>\n",
       "    </tr>\n",
       "    <tr>\n",
       "      <th>e</th>\n",
       "      <td>-0.890526</td>\n",
       "      <td>1.756792</td>\n",
       "      <td>-0.776518</td>\n",
       "      <td>-0.368937</td>\n",
       "    </tr>\n",
       "    <tr>\n",
       "      <th>r</th>\n",
       "      <td>-1.836298</td>\n",
       "      <td>1.011191</td>\n",
       "      <td>2.296990</td>\n",
       "      <td>0.141420</td>\n",
       "    </tr>\n",
       "  </tbody>\n",
       "</table>\n",
       "</div>"
      ],
      "text/plain": [
       "          x         y         z         w\n",
       "a -0.369188 -0.296386  1.172567  0.138636\n",
       "b -0.886657  0.194896 -0.069128  0.199175\n",
       "c -0.983365 -1.271193  1.283515 -1.333776\n",
       "d -1.137353 -1.265731  0.584704  0.007476\n",
       "e -0.890526  1.756792 -0.776518 -0.368937\n",
       "r -1.836298  1.011191  2.296990  0.141420"
      ]
     },
     "execution_count": 10,
     "metadata": {},
     "output_type": "execute_result"
    }
   ],
   "source": [
    "df.drop('my_data',axis=1,)\n"
   ]
  },
  {
   "cell_type": "code",
   "execution_count": 25,
   "metadata": {
    "scrolled": true
   },
   "outputs": [
    {
     "data": {
      "text/html": [
       "<div>\n",
       "<style scoped>\n",
       "    .dataframe tbody tr th:only-of-type {\n",
       "        vertical-align: middle;\n",
       "    }\n",
       "\n",
       "    .dataframe tbody tr th {\n",
       "        vertical-align: top;\n",
       "    }\n",
       "\n",
       "    .dataframe thead th {\n",
       "        text-align: right;\n",
       "    }\n",
       "</style>\n",
       "<table border=\"1\" class=\"dataframe\">\n",
       "  <thead>\n",
       "    <tr style=\"text-align: right;\">\n",
       "      <th></th>\n",
       "      <th>x</th>\n",
       "      <th>y</th>\n",
       "      <th>z</th>\n",
       "      <th>w</th>\n",
       "    </tr>\n",
       "  </thead>\n",
       "  <tbody>\n",
       "    <tr>\n",
       "      <th>a</th>\n",
       "      <td>-0.981897</td>\n",
       "      <td>-0.088376</td>\n",
       "      <td>-0.005970</td>\n",
       "      <td>0.359671</td>\n",
       "    </tr>\n",
       "    <tr>\n",
       "      <th>b</th>\n",
       "      <td>-0.170910</td>\n",
       "      <td>-0.095199</td>\n",
       "      <td>-0.237375</td>\n",
       "      <td>-0.575313</td>\n",
       "    </tr>\n",
       "    <tr>\n",
       "      <th>c</th>\n",
       "      <td>-1.042289</td>\n",
       "      <td>-0.381743</td>\n",
       "      <td>-0.902633</td>\n",
       "      <td>0.190720</td>\n",
       "    </tr>\n",
       "    <tr>\n",
       "      <th>d</th>\n",
       "      <td>0.181051</td>\n",
       "      <td>0.141611</td>\n",
       "      <td>-0.731324</td>\n",
       "      <td>-0.657143</td>\n",
       "    </tr>\n",
       "    <tr>\n",
       "      <th>e</th>\n",
       "      <td>0.301328</td>\n",
       "      <td>0.990051</td>\n",
       "      <td>-0.777263</td>\n",
       "      <td>0.621065</td>\n",
       "    </tr>\n",
       "  </tbody>\n",
       "</table>\n",
       "</div>"
      ],
      "text/plain": [
       "          x         y         z         w\n",
       "a -0.981897 -0.088376 -0.005970  0.359671\n",
       "b -0.170910 -0.095199 -0.237375 -0.575313\n",
       "c -1.042289 -0.381743 -0.902633  0.190720\n",
       "d  0.181051  0.141611 -0.731324 -0.657143\n",
       "e  0.301328  0.990051 -0.777263  0.621065"
      ]
     },
     "execution_count": 25,
     "metadata": {},
     "output_type": "execute_result"
    }
   ],
   "source": [
    "df.drop('r',axis=0)        # deleting rows from the df"
   ]
  },
  {
   "cell_type": "code",
   "execution_count": 26,
   "metadata": {},
   "outputs": [
    {
     "data": {
      "text/plain": [
       "(6, 4)"
      ]
     },
     "execution_count": 26,
     "metadata": {},
     "output_type": "execute_result"
    }
   ],
   "source": [
    "df.shape"
   ]
  },
  {
   "cell_type": "markdown",
   "metadata": {},
   "source": [
    " ->here we are using axis=1 for the columns and axis=0 for the rows .\n",
    "    ->because  ex:-in shape(6,4) index 0 is occupied by the rows and index 1 is occupied by the columns.\n",
    "       ->we know that pandas are based on the numpys"
   ]
  },
  {
   "cell_type": "code",
   "execution_count": 8,
   "metadata": {
    "scrolled": true
   },
   "outputs": [
    {
     "data": {
      "text/html": [
       "<div>\n",
       "<style scoped>\n",
       "    .dataframe tbody tr th:only-of-type {\n",
       "        vertical-align: middle;\n",
       "    }\n",
       "\n",
       "    .dataframe tbody tr th {\n",
       "        vertical-align: top;\n",
       "    }\n",
       "\n",
       "    .dataframe thead th {\n",
       "        text-align: right;\n",
       "    }\n",
       "</style>\n",
       "<table border=\"1\" class=\"dataframe\">\n",
       "  <thead>\n",
       "    <tr style=\"text-align: right;\">\n",
       "      <th></th>\n",
       "      <th>x</th>\n",
       "      <th>y</th>\n",
       "      <th>z</th>\n",
       "      <th>w</th>\n",
       "    </tr>\n",
       "  </thead>\n",
       "  <tbody>\n",
       "    <tr>\n",
       "      <th>a</th>\n",
       "      <td>-0.369188</td>\n",
       "      <td>-0.296386</td>\n",
       "      <td>1.172567</td>\n",
       "      <td>0.138636</td>\n",
       "    </tr>\n",
       "    <tr>\n",
       "      <th>b</th>\n",
       "      <td>-0.886657</td>\n",
       "      <td>0.194896</td>\n",
       "      <td>-0.069128</td>\n",
       "      <td>0.199175</td>\n",
       "    </tr>\n",
       "    <tr>\n",
       "      <th>c</th>\n",
       "      <td>-0.983365</td>\n",
       "      <td>-1.271193</td>\n",
       "      <td>1.283515</td>\n",
       "      <td>-1.333776</td>\n",
       "    </tr>\n",
       "    <tr>\n",
       "      <th>d</th>\n",
       "      <td>-1.137353</td>\n",
       "      <td>-1.265731</td>\n",
       "      <td>0.584704</td>\n",
       "      <td>0.007476</td>\n",
       "    </tr>\n",
       "    <tr>\n",
       "      <th>e</th>\n",
       "      <td>-0.890526</td>\n",
       "      <td>1.756792</td>\n",
       "      <td>-0.776518</td>\n",
       "      <td>-0.368937</td>\n",
       "    </tr>\n",
       "    <tr>\n",
       "      <th>r</th>\n",
       "      <td>-1.836298</td>\n",
       "      <td>1.011191</td>\n",
       "      <td>2.296990</td>\n",
       "      <td>0.141420</td>\n",
       "    </tr>\n",
       "  </tbody>\n",
       "</table>\n",
       "</div>"
      ],
      "text/plain": [
       "          x         y         z         w\n",
       "a -0.369188 -0.296386  1.172567  0.138636\n",
       "b -0.886657  0.194896 -0.069128  0.199175\n",
       "c -0.983365 -1.271193  1.283515 -1.333776\n",
       "d -1.137353 -1.265731  0.584704  0.007476\n",
       "e -0.890526  1.756792 -0.776518 -0.368937\n",
       "r -1.836298  1.011191  2.296990  0.141420"
      ]
     },
     "execution_count": 8,
     "metadata": {},
     "output_type": "execute_result"
    }
   ],
   "source": [
    "df"
   ]
  },
  {
   "cell_type": "markdown",
   "metadata": {},
   "source": [
    "# conditional selection"
   ]
  },
  {
   "cell_type": "code",
   "execution_count": 6,
   "metadata": {},
   "outputs": [
    {
     "data": {
      "text/html": [
       "<div>\n",
       "<style scoped>\n",
       "    .dataframe tbody tr th:only-of-type {\n",
       "        vertical-align: middle;\n",
       "    }\n",
       "\n",
       "    .dataframe tbody tr th {\n",
       "        vertical-align: top;\n",
       "    }\n",
       "\n",
       "    .dataframe thead th {\n",
       "        text-align: right;\n",
       "    }\n",
       "</style>\n",
       "<table border=\"1\" class=\"dataframe\">\n",
       "  <thead>\n",
       "    <tr style=\"text-align: right;\">\n",
       "      <th></th>\n",
       "      <th>x</th>\n",
       "      <th>y</th>\n",
       "      <th>z</th>\n",
       "      <th>w</th>\n",
       "    </tr>\n",
       "  </thead>\n",
       "  <tbody>\n",
       "    <tr>\n",
       "      <th>a</th>\n",
       "      <td>0.787276</td>\n",
       "      <td>0.105260</td>\n",
       "      <td>-0.719730</td>\n",
       "      <td>0.493030</td>\n",
       "    </tr>\n",
       "    <tr>\n",
       "      <th>b</th>\n",
       "      <td>0.987151</td>\n",
       "      <td>2.110926</td>\n",
       "      <td>-1.696115</td>\n",
       "      <td>-0.656592</td>\n",
       "    </tr>\n",
       "    <tr>\n",
       "      <th>c</th>\n",
       "      <td>-1.420860</td>\n",
       "      <td>1.599038</td>\n",
       "      <td>-1.237577</td>\n",
       "      <td>1.682152</td>\n",
       "    </tr>\n",
       "    <tr>\n",
       "      <th>d</th>\n",
       "      <td>1.192794</td>\n",
       "      <td>0.098978</td>\n",
       "      <td>-0.415589</td>\n",
       "      <td>-0.676292</td>\n",
       "    </tr>\n",
       "    <tr>\n",
       "      <th>e</th>\n",
       "      <td>-1.682558</td>\n",
       "      <td>-0.349596</td>\n",
       "      <td>0.213855</td>\n",
       "      <td>0.414854</td>\n",
       "    </tr>\n",
       "    <tr>\n",
       "      <th>r</th>\n",
       "      <td>1.595604</td>\n",
       "      <td>1.178554</td>\n",
       "      <td>-0.078823</td>\n",
       "      <td>0.585742</td>\n",
       "    </tr>\n",
       "  </tbody>\n",
       "</table>\n",
       "</div>"
      ],
      "text/plain": [
       "          x         y         z         w\n",
       "a  0.787276  0.105260 -0.719730  0.493030\n",
       "b  0.987151  2.110926 -1.696115 -0.656592\n",
       "c -1.420860  1.599038 -1.237577  1.682152\n",
       "d  1.192794  0.098978 -0.415589 -0.676292\n",
       "e -1.682558 -0.349596  0.213855  0.414854\n",
       "r  1.595604  1.178554 -0.078823  0.585742"
      ]
     },
     "execution_count": 6,
     "metadata": {},
     "output_type": "execute_result"
    }
   ],
   "source": [
    "df"
   ]
  },
  {
   "cell_type": "code",
   "execution_count": 7,
   "metadata": {
    "scrolled": false
   },
   "outputs": [
    {
     "data": {
      "text/html": [
       "<div>\n",
       "<style scoped>\n",
       "    .dataframe tbody tr th:only-of-type {\n",
       "        vertical-align: middle;\n",
       "    }\n",
       "\n",
       "    .dataframe tbody tr th {\n",
       "        vertical-align: top;\n",
       "    }\n",
       "\n",
       "    .dataframe thead th {\n",
       "        text-align: right;\n",
       "    }\n",
       "</style>\n",
       "<table border=\"1\" class=\"dataframe\">\n",
       "  <thead>\n",
       "    <tr style=\"text-align: right;\">\n",
       "      <th></th>\n",
       "      <th>x</th>\n",
       "      <th>y</th>\n",
       "      <th>z</th>\n",
       "      <th>w</th>\n",
       "    </tr>\n",
       "  </thead>\n",
       "  <tbody>\n",
       "    <tr>\n",
       "      <th>a</th>\n",
       "      <td>True</td>\n",
       "      <td>True</td>\n",
       "      <td>False</td>\n",
       "      <td>True</td>\n",
       "    </tr>\n",
       "    <tr>\n",
       "      <th>b</th>\n",
       "      <td>True</td>\n",
       "      <td>True</td>\n",
       "      <td>False</td>\n",
       "      <td>False</td>\n",
       "    </tr>\n",
       "    <tr>\n",
       "      <th>c</th>\n",
       "      <td>False</td>\n",
       "      <td>True</td>\n",
       "      <td>False</td>\n",
       "      <td>True</td>\n",
       "    </tr>\n",
       "    <tr>\n",
       "      <th>d</th>\n",
       "      <td>True</td>\n",
       "      <td>True</td>\n",
       "      <td>False</td>\n",
       "      <td>False</td>\n",
       "    </tr>\n",
       "    <tr>\n",
       "      <th>e</th>\n",
       "      <td>False</td>\n",
       "      <td>False</td>\n",
       "      <td>True</td>\n",
       "      <td>True</td>\n",
       "    </tr>\n",
       "    <tr>\n",
       "      <th>r</th>\n",
       "      <td>True</td>\n",
       "      <td>True</td>\n",
       "      <td>False</td>\n",
       "      <td>True</td>\n",
       "    </tr>\n",
       "  </tbody>\n",
       "</table>\n",
       "</div>"
      ],
      "text/plain": [
       "       x      y      z      w\n",
       "a   True   True  False   True\n",
       "b   True   True  False  False\n",
       "c  False   True  False   True\n",
       "d   True   True  False  False\n",
       "e  False  False   True   True\n",
       "r   True   True  False   True"
      ]
     },
     "execution_count": 7,
     "metadata": {},
     "output_type": "execute_result"
    }
   ],
   "source": [
    "df>0   # similar to the numpy boolens"
   ]
  },
  {
   "cell_type": "code",
   "execution_count": 8,
   "metadata": {
    "scrolled": false
   },
   "outputs": [
    {
     "data": {
      "text/html": [
       "<div>\n",
       "<style scoped>\n",
       "    .dataframe tbody tr th:only-of-type {\n",
       "        vertical-align: middle;\n",
       "    }\n",
       "\n",
       "    .dataframe tbody tr th {\n",
       "        vertical-align: top;\n",
       "    }\n",
       "\n",
       "    .dataframe thead th {\n",
       "        text-align: right;\n",
       "    }\n",
       "</style>\n",
       "<table border=\"1\" class=\"dataframe\">\n",
       "  <thead>\n",
       "    <tr style=\"text-align: right;\">\n",
       "      <th></th>\n",
       "      <th>x</th>\n",
       "      <th>y</th>\n",
       "      <th>z</th>\n",
       "      <th>w</th>\n",
       "    </tr>\n",
       "  </thead>\n",
       "  <tbody>\n",
       "    <tr>\n",
       "      <th>a</th>\n",
       "      <td>0.787276</td>\n",
       "      <td>0.105260</td>\n",
       "      <td>NaN</td>\n",
       "      <td>0.493030</td>\n",
       "    </tr>\n",
       "    <tr>\n",
       "      <th>b</th>\n",
       "      <td>0.987151</td>\n",
       "      <td>2.110926</td>\n",
       "      <td>NaN</td>\n",
       "      <td>NaN</td>\n",
       "    </tr>\n",
       "    <tr>\n",
       "      <th>c</th>\n",
       "      <td>NaN</td>\n",
       "      <td>1.599038</td>\n",
       "      <td>NaN</td>\n",
       "      <td>1.682152</td>\n",
       "    </tr>\n",
       "    <tr>\n",
       "      <th>d</th>\n",
       "      <td>1.192794</td>\n",
       "      <td>0.098978</td>\n",
       "      <td>NaN</td>\n",
       "      <td>NaN</td>\n",
       "    </tr>\n",
       "    <tr>\n",
       "      <th>e</th>\n",
       "      <td>NaN</td>\n",
       "      <td>NaN</td>\n",
       "      <td>0.213855</td>\n",
       "      <td>0.414854</td>\n",
       "    </tr>\n",
       "    <tr>\n",
       "      <th>r</th>\n",
       "      <td>1.595604</td>\n",
       "      <td>1.178554</td>\n",
       "      <td>NaN</td>\n",
       "      <td>0.585742</td>\n",
       "    </tr>\n",
       "  </tbody>\n",
       "</table>\n",
       "</div>"
      ],
      "text/plain": [
       "          x         y         z         w\n",
       "a  0.787276  0.105260       NaN  0.493030\n",
       "b  0.987151  2.110926       NaN       NaN\n",
       "c       NaN  1.599038       NaN  1.682152\n",
       "d  1.192794  0.098978       NaN       NaN\n",
       "e       NaN       NaN  0.213855  0.414854\n",
       "r  1.595604  1.178554       NaN  0.585742"
      ]
     },
     "execution_count": 8,
     "metadata": {},
     "output_type": "execute_result"
    }
   ],
   "source": [
    "dfbool=df>0    # getting  of the values which are grater than the 0\n",
    "df[dfbool]"
   ]
  },
  {
   "cell_type": "code",
   "execution_count": 11,
   "metadata": {
    "scrolled": false
   },
   "outputs": [
    {
     "data": {
      "text/plain": [
       "a     True\n",
       "b    False\n",
       "c     True\n",
       "d    False\n",
       "e     True\n",
       "r     True\n",
       "Name: w, dtype: bool"
      ]
     },
     "execution_count": 11,
     "metadata": {},
     "output_type": "execute_result"
    }
   ],
   "source": [
    "df['w']>0"
   ]
  },
  {
   "cell_type": "code",
   "execution_count": 14,
   "metadata": {
    "scrolled": false
   },
   "outputs": [
    {
     "data": {
      "text/html": [
       "<div>\n",
       "<style scoped>\n",
       "    .dataframe tbody tr th:only-of-type {\n",
       "        vertical-align: middle;\n",
       "    }\n",
       "\n",
       "    .dataframe tbody tr th {\n",
       "        vertical-align: top;\n",
       "    }\n",
       "\n",
       "    .dataframe thead th {\n",
       "        text-align: right;\n",
       "    }\n",
       "</style>\n",
       "<table border=\"1\" class=\"dataframe\">\n",
       "  <thead>\n",
       "    <tr style=\"text-align: right;\">\n",
       "      <th></th>\n",
       "      <th>x</th>\n",
       "      <th>y</th>\n",
       "      <th>z</th>\n",
       "      <th>w</th>\n",
       "    </tr>\n",
       "  </thead>\n",
       "  <tbody>\n",
       "    <tr>\n",
       "      <th>a</th>\n",
       "      <td>0.787276</td>\n",
       "      <td>0.105260</td>\n",
       "      <td>-0.719730</td>\n",
       "      <td>0.493030</td>\n",
       "    </tr>\n",
       "    <tr>\n",
       "      <th>c</th>\n",
       "      <td>-1.420860</td>\n",
       "      <td>1.599038</td>\n",
       "      <td>-1.237577</td>\n",
       "      <td>1.682152</td>\n",
       "    </tr>\n",
       "    <tr>\n",
       "      <th>e</th>\n",
       "      <td>-1.682558</td>\n",
       "      <td>-0.349596</td>\n",
       "      <td>0.213855</td>\n",
       "      <td>0.414854</td>\n",
       "    </tr>\n",
       "    <tr>\n",
       "      <th>r</th>\n",
       "      <td>1.595604</td>\n",
       "      <td>1.178554</td>\n",
       "      <td>-0.078823</td>\n",
       "      <td>0.585742</td>\n",
       "    </tr>\n",
       "  </tbody>\n",
       "</table>\n",
       "</div>"
      ],
      "text/plain": [
       "          x         y         z         w\n",
       "a  0.787276  0.105260 -0.719730  0.493030\n",
       "c -1.420860  1.599038 -1.237577  1.682152\n",
       "e -1.682558 -0.349596  0.213855  0.414854\n",
       "r  1.595604  1.178554 -0.078823  0.585742"
      ]
     },
     "execution_count": 14,
     "metadata": {},
     "output_type": "execute_result"
    }
   ],
   "source": [
    "df[df['w']>0]   # here we won't get b and d rows because tyey are false in the df['w'>0]\n",
    "                #why because we are sending the  df['w'>0] ar argument to the df[]."
   ]
  },
  {
   "cell_type": "code",
   "execution_count": 21,
   "metadata": {
    "scrolled": true
   },
   "outputs": [
    {
     "data": {
      "text/html": [
       "<div>\n",
       "<style scoped>\n",
       "    .dataframe tbody tr th:only-of-type {\n",
       "        vertical-align: middle;\n",
       "    }\n",
       "\n",
       "    .dataframe tbody tr th {\n",
       "        vertical-align: top;\n",
       "    }\n",
       "\n",
       "    .dataframe thead th {\n",
       "        text-align: right;\n",
       "    }\n",
       "</style>\n",
       "<table border=\"1\" class=\"dataframe\">\n",
       "  <thead>\n",
       "    <tr style=\"text-align: right;\">\n",
       "      <th></th>\n",
       "      <th>x</th>\n",
       "      <th>y</th>\n",
       "    </tr>\n",
       "  </thead>\n",
       "  <tbody>\n",
       "    <tr>\n",
       "      <th>a</th>\n",
       "      <td>0.787276</td>\n",
       "      <td>0.105260</td>\n",
       "    </tr>\n",
       "    <tr>\n",
       "      <th>c</th>\n",
       "      <td>-1.420860</td>\n",
       "      <td>1.599038</td>\n",
       "    </tr>\n",
       "    <tr>\n",
       "      <th>e</th>\n",
       "      <td>-1.682558</td>\n",
       "      <td>-0.349596</td>\n",
       "    </tr>\n",
       "    <tr>\n",
       "      <th>r</th>\n",
       "      <td>1.595604</td>\n",
       "      <td>1.178554</td>\n",
       "    </tr>\n",
       "  </tbody>\n",
       "</table>\n",
       "</div>"
      ],
      "text/plain": [
       "          x         y\n",
       "a  0.787276  0.105260\n",
       "c -1.420860  1.599038\n",
       "e -1.682558 -0.349596\n",
       "r  1.595604  1.178554"
      ]
     },
     "execution_count": 21,
     "metadata": {},
     "output_type": "execute_result"
    }
   ],
   "source": [
    "df[df['w']>0][['x','y']]     #type of slicing the data "
   ]
  },
  {
   "cell_type": "code",
   "execution_count": 26,
   "metadata": {
    "scrolled": true
   },
   "outputs": [
    {
     "data": {
      "text/html": [
       "<div>\n",
       "<style scoped>\n",
       "    .dataframe tbody tr th:only-of-type {\n",
       "        vertical-align: middle;\n",
       "    }\n",
       "\n",
       "    .dataframe tbody tr th {\n",
       "        vertical-align: top;\n",
       "    }\n",
       "\n",
       "    .dataframe thead th {\n",
       "        text-align: right;\n",
       "    }\n",
       "</style>\n",
       "<table border=\"1\" class=\"dataframe\">\n",
       "  <thead>\n",
       "    <tr style=\"text-align: right;\">\n",
       "      <th></th>\n",
       "      <th>x</th>\n",
       "      <th>y</th>\n",
       "      <th>z</th>\n",
       "      <th>w</th>\n",
       "    </tr>\n",
       "  </thead>\n",
       "  <tbody>\n",
       "    <tr>\n",
       "      <th>b</th>\n",
       "      <td>0.987151</td>\n",
       "      <td>2.110926</td>\n",
       "      <td>-1.696115</td>\n",
       "      <td>-0.656592</td>\n",
       "    </tr>\n",
       "    <tr>\n",
       "      <th>r</th>\n",
       "      <td>1.595604</td>\n",
       "      <td>1.178554</td>\n",
       "      <td>-0.078823</td>\n",
       "      <td>0.585742</td>\n",
       "    </tr>\n",
       "  </tbody>\n",
       "</table>\n",
       "</div>"
      ],
      "text/plain": [
       "          x         y         z         w\n",
       "b  0.987151  2.110926 -1.696115 -0.656592\n",
       "r  1.595604  1.178554 -0.078823  0.585742"
      ]
     },
     "execution_count": 26,
     "metadata": {},
     "output_type": "execute_result"
    }
   ],
   "source": [
    "df[(df['x']>0) & (df['y']>1)]     # type of slicing where user want data depends on the two conditions\n",
    "                                #here we got only b,r rows becaause remaining rows are false\n",
    "                                #we can use symbols like |(or) ,&(and) "
   ]
  },
  {
   "cell_type": "code",
   "execution_count": 29,
   "metadata": {},
   "outputs": [],
   "source": [
    "# the same thing  can do for the rows.\n"
   ]
  },
  {
   "cell_type": "markdown",
   "metadata": {},
   "source": [
    "# reset and seting of index"
   ]
  },
  {
   "cell_type": "code",
   "execution_count": 30,
   "metadata": {
    "scrolled": true
   },
   "outputs": [
    {
     "data": {
      "text/html": [
       "<div>\n",
       "<style scoped>\n",
       "    .dataframe tbody tr th:only-of-type {\n",
       "        vertical-align: middle;\n",
       "    }\n",
       "\n",
       "    .dataframe tbody tr th {\n",
       "        vertical-align: top;\n",
       "    }\n",
       "\n",
       "    .dataframe thead th {\n",
       "        text-align: right;\n",
       "    }\n",
       "</style>\n",
       "<table border=\"1\" class=\"dataframe\">\n",
       "  <thead>\n",
       "    <tr style=\"text-align: right;\">\n",
       "      <th></th>\n",
       "      <th>index</th>\n",
       "      <th>x</th>\n",
       "      <th>y</th>\n",
       "      <th>z</th>\n",
       "      <th>w</th>\n",
       "    </tr>\n",
       "  </thead>\n",
       "  <tbody>\n",
       "    <tr>\n",
       "      <th>0</th>\n",
       "      <td>a</td>\n",
       "      <td>0.787276</td>\n",
       "      <td>0.105260</td>\n",
       "      <td>-0.719730</td>\n",
       "      <td>0.493030</td>\n",
       "    </tr>\n",
       "    <tr>\n",
       "      <th>1</th>\n",
       "      <td>b</td>\n",
       "      <td>0.987151</td>\n",
       "      <td>2.110926</td>\n",
       "      <td>-1.696115</td>\n",
       "      <td>-0.656592</td>\n",
       "    </tr>\n",
       "    <tr>\n",
       "      <th>2</th>\n",
       "      <td>c</td>\n",
       "      <td>-1.420860</td>\n",
       "      <td>1.599038</td>\n",
       "      <td>-1.237577</td>\n",
       "      <td>1.682152</td>\n",
       "    </tr>\n",
       "    <tr>\n",
       "      <th>3</th>\n",
       "      <td>d</td>\n",
       "      <td>1.192794</td>\n",
       "      <td>0.098978</td>\n",
       "      <td>-0.415589</td>\n",
       "      <td>-0.676292</td>\n",
       "    </tr>\n",
       "    <tr>\n",
       "      <th>4</th>\n",
       "      <td>e</td>\n",
       "      <td>-1.682558</td>\n",
       "      <td>-0.349596</td>\n",
       "      <td>0.213855</td>\n",
       "      <td>0.414854</td>\n",
       "    </tr>\n",
       "    <tr>\n",
       "      <th>5</th>\n",
       "      <td>r</td>\n",
       "      <td>1.595604</td>\n",
       "      <td>1.178554</td>\n",
       "      <td>-0.078823</td>\n",
       "      <td>0.585742</td>\n",
       "    </tr>\n",
       "  </tbody>\n",
       "</table>\n",
       "</div>"
      ],
      "text/plain": [
       "  index         x         y         z         w\n",
       "0     a  0.787276  0.105260 -0.719730  0.493030\n",
       "1     b  0.987151  2.110926 -1.696115 -0.656592\n",
       "2     c -1.420860  1.599038 -1.237577  1.682152\n",
       "3     d  1.192794  0.098978 -0.415589 -0.676292\n",
       "4     e -1.682558 -0.349596  0.213855  0.414854\n",
       "5     r  1.595604  1.178554 -0.078823  0.585742"
      ]
     },
     "execution_count": 30,
     "metadata": {},
     "output_type": "execute_result"
    }
   ],
   "source": [
    "df.reset_index()  #if we have to make it fix or place we have to use inplace=true"
   ]
  },
  {
   "cell_type": "code",
   "execution_count": 32,
   "metadata": {},
   "outputs": [
    {
     "data": {
      "text/plain": [
       "['as', 'dc', 'fv', 'gb', 'hn', 'jm']"
      ]
     },
     "execution_count": 32,
     "metadata": {},
     "output_type": "execute_result"
    }
   ],
   "source": [
    "newind='as dc fv gb hn jm '.split()\n",
    "newind"
   ]
  },
  {
   "cell_type": "code",
   "execution_count": 34,
   "metadata": {},
   "outputs": [
    {
     "data": {
      "text/html": [
       "<div>\n",
       "<style scoped>\n",
       "    .dataframe tbody tr th:only-of-type {\n",
       "        vertical-align: middle;\n",
       "    }\n",
       "\n",
       "    .dataframe tbody tr th {\n",
       "        vertical-align: top;\n",
       "    }\n",
       "\n",
       "    .dataframe thead th {\n",
       "        text-align: right;\n",
       "    }\n",
       "</style>\n",
       "<table border=\"1\" class=\"dataframe\">\n",
       "  <thead>\n",
       "    <tr style=\"text-align: right;\">\n",
       "      <th></th>\n",
       "      <th>x</th>\n",
       "      <th>y</th>\n",
       "      <th>z</th>\n",
       "      <th>w</th>\n",
       "      <th>INDEX</th>\n",
       "    </tr>\n",
       "  </thead>\n",
       "  <tbody>\n",
       "    <tr>\n",
       "      <th>a</th>\n",
       "      <td>0.787276</td>\n",
       "      <td>0.105260</td>\n",
       "      <td>-0.719730</td>\n",
       "      <td>0.493030</td>\n",
       "      <td>as</td>\n",
       "    </tr>\n",
       "    <tr>\n",
       "      <th>b</th>\n",
       "      <td>0.987151</td>\n",
       "      <td>2.110926</td>\n",
       "      <td>-1.696115</td>\n",
       "      <td>-0.656592</td>\n",
       "      <td>dc</td>\n",
       "    </tr>\n",
       "    <tr>\n",
       "      <th>c</th>\n",
       "      <td>-1.420860</td>\n",
       "      <td>1.599038</td>\n",
       "      <td>-1.237577</td>\n",
       "      <td>1.682152</td>\n",
       "      <td>fv</td>\n",
       "    </tr>\n",
       "    <tr>\n",
       "      <th>d</th>\n",
       "      <td>1.192794</td>\n",
       "      <td>0.098978</td>\n",
       "      <td>-0.415589</td>\n",
       "      <td>-0.676292</td>\n",
       "      <td>gb</td>\n",
       "    </tr>\n",
       "    <tr>\n",
       "      <th>e</th>\n",
       "      <td>-1.682558</td>\n",
       "      <td>-0.349596</td>\n",
       "      <td>0.213855</td>\n",
       "      <td>0.414854</td>\n",
       "      <td>hn</td>\n",
       "    </tr>\n",
       "    <tr>\n",
       "      <th>r</th>\n",
       "      <td>1.595604</td>\n",
       "      <td>1.178554</td>\n",
       "      <td>-0.078823</td>\n",
       "      <td>0.585742</td>\n",
       "      <td>jm</td>\n",
       "    </tr>\n",
       "  </tbody>\n",
       "</table>\n",
       "</div>"
      ],
      "text/plain": [
       "          x         y         z         w INDEX\n",
       "a  0.787276  0.105260 -0.719730  0.493030    as\n",
       "b  0.987151  2.110926 -1.696115 -0.656592    dc\n",
       "c -1.420860  1.599038 -1.237577  1.682152    fv\n",
       "d  1.192794  0.098978 -0.415589 -0.676292    gb\n",
       "e -1.682558 -0.349596  0.213855  0.414854    hn\n",
       "r  1.595604  1.178554 -0.078823  0.585742    jm"
      ]
     },
     "execution_count": 34,
     "metadata": {},
     "output_type": "execute_result"
    }
   ],
   "source": [
    "df['INDEX']=newind     # another way of creating index\n",
    "df"
   ]
  },
  {
   "cell_type": "code",
   "execution_count": 36,
   "metadata": {
    "scrolled": false
   },
   "outputs": [
    {
     "data": {
      "text/html": [
       "<div>\n",
       "<style scoped>\n",
       "    .dataframe tbody tr th:only-of-type {\n",
       "        vertical-align: middle;\n",
       "    }\n",
       "\n",
       "    .dataframe tbody tr th {\n",
       "        vertical-align: top;\n",
       "    }\n",
       "\n",
       "    .dataframe thead th {\n",
       "        text-align: right;\n",
       "    }\n",
       "</style>\n",
       "<table border=\"1\" class=\"dataframe\">\n",
       "  <thead>\n",
       "    <tr style=\"text-align: right;\">\n",
       "      <th></th>\n",
       "      <th>x</th>\n",
       "      <th>y</th>\n",
       "      <th>z</th>\n",
       "      <th>w</th>\n",
       "    </tr>\n",
       "    <tr>\n",
       "      <th>INDEX</th>\n",
       "      <th></th>\n",
       "      <th></th>\n",
       "      <th></th>\n",
       "      <th></th>\n",
       "    </tr>\n",
       "  </thead>\n",
       "  <tbody>\n",
       "    <tr>\n",
       "      <th>as</th>\n",
       "      <td>0.787276</td>\n",
       "      <td>0.105260</td>\n",
       "      <td>-0.719730</td>\n",
       "      <td>0.493030</td>\n",
       "    </tr>\n",
       "    <tr>\n",
       "      <th>dc</th>\n",
       "      <td>0.987151</td>\n",
       "      <td>2.110926</td>\n",
       "      <td>-1.696115</td>\n",
       "      <td>-0.656592</td>\n",
       "    </tr>\n",
       "    <tr>\n",
       "      <th>fv</th>\n",
       "      <td>-1.420860</td>\n",
       "      <td>1.599038</td>\n",
       "      <td>-1.237577</td>\n",
       "      <td>1.682152</td>\n",
       "    </tr>\n",
       "    <tr>\n",
       "      <th>gb</th>\n",
       "      <td>1.192794</td>\n",
       "      <td>0.098978</td>\n",
       "      <td>-0.415589</td>\n",
       "      <td>-0.676292</td>\n",
       "    </tr>\n",
       "    <tr>\n",
       "      <th>hn</th>\n",
       "      <td>-1.682558</td>\n",
       "      <td>-0.349596</td>\n",
       "      <td>0.213855</td>\n",
       "      <td>0.414854</td>\n",
       "    </tr>\n",
       "    <tr>\n",
       "      <th>jm</th>\n",
       "      <td>1.595604</td>\n",
       "      <td>1.178554</td>\n",
       "      <td>-0.078823</td>\n",
       "      <td>0.585742</td>\n",
       "    </tr>\n",
       "  </tbody>\n",
       "</table>\n",
       "</div>"
      ],
      "text/plain": [
       "              x         y         z         w\n",
       "INDEX                                        \n",
       "as     0.787276  0.105260 -0.719730  0.493030\n",
       "dc     0.987151  2.110926 -1.696115 -0.656592\n",
       "fv    -1.420860  1.599038 -1.237577  1.682152\n",
       "gb     1.192794  0.098978 -0.415589 -0.676292\n",
       "hn    -1.682558 -0.349596  0.213855  0.414854\n",
       "jm     1.595604  1.178554 -0.078823  0.585742"
      ]
     },
     "execution_count": 36,
     "metadata": {},
     "output_type": "execute_result"
    }
   ],
   "source": [
    "df.set_index('INDEX')    #now we created index as the INEDX"
   ]
  },
  {
   "cell_type": "code",
   "execution_count": 31,
   "metadata": {},
   "outputs": [
    {
     "data": {
      "text/html": [
       "<div>\n",
       "<style scoped>\n",
       "    .dataframe tbody tr th:only-of-type {\n",
       "        vertical-align: middle;\n",
       "    }\n",
       "\n",
       "    .dataframe tbody tr th {\n",
       "        vertical-align: top;\n",
       "    }\n",
       "\n",
       "    .dataframe thead th {\n",
       "        text-align: right;\n",
       "    }\n",
       "</style>\n",
       "<table border=\"1\" class=\"dataframe\">\n",
       "  <thead>\n",
       "    <tr style=\"text-align: right;\">\n",
       "      <th></th>\n",
       "      <th>x</th>\n",
       "      <th>y</th>\n",
       "      <th>z</th>\n",
       "      <th>w</th>\n",
       "    </tr>\n",
       "  </thead>\n",
       "  <tbody>\n",
       "    <tr>\n",
       "      <th>a</th>\n",
       "      <td>0.441808</td>\n",
       "      <td>-1.171174</td>\n",
       "      <td>0.126139</td>\n",
       "      <td>-1.755456</td>\n",
       "    </tr>\n",
       "    <tr>\n",
       "      <th>b</th>\n",
       "      <td>-0.159662</td>\n",
       "      <td>1.218003</td>\n",
       "      <td>0.154944</td>\n",
       "      <td>0.733014</td>\n",
       "    </tr>\n",
       "    <tr>\n",
       "      <th>c</th>\n",
       "      <td>0.553919</td>\n",
       "      <td>1.051009</td>\n",
       "      <td>1.554044</td>\n",
       "      <td>0.335496</td>\n",
       "    </tr>\n",
       "    <tr>\n",
       "      <th>d</th>\n",
       "      <td>-0.672600</td>\n",
       "      <td>-0.828545</td>\n",
       "      <td>0.646868</td>\n",
       "      <td>-0.409521</td>\n",
       "    </tr>\n",
       "    <tr>\n",
       "      <th>e</th>\n",
       "      <td>0.199671</td>\n",
       "      <td>0.684740</td>\n",
       "      <td>1.353617</td>\n",
       "      <td>-0.300989</td>\n",
       "    </tr>\n",
       "    <tr>\n",
       "      <th>r</th>\n",
       "      <td>-0.606764</td>\n",
       "      <td>-0.459250</td>\n",
       "      <td>-1.358167</td>\n",
       "      <td>1.336416</td>\n",
       "    </tr>\n",
       "    <tr>\n",
       "      <th>j</th>\n",
       "      <td>0.000000</td>\n",
       "      <td>1.000000</td>\n",
       "      <td>2.000000</td>\n",
       "      <td>3.000000</td>\n",
       "    </tr>\n",
       "    <tr>\n",
       "      <th>k</th>\n",
       "      <td>1.000000</td>\n",
       "      <td>2.000000</td>\n",
       "      <td>3.000000</td>\n",
       "      <td>4.000000</td>\n",
       "    </tr>\n",
       "  </tbody>\n",
       "</table>\n",
       "</div>"
      ],
      "text/plain": [
       "          x         y         z         w\n",
       "a  0.441808 -1.171174  0.126139 -1.755456\n",
       "b -0.159662  1.218003  0.154944  0.733014\n",
       "c  0.553919  1.051009  1.554044  0.335496\n",
       "d -0.672600 -0.828545  0.646868 -0.409521\n",
       "e  0.199671  0.684740  1.353617 -0.300989\n",
       "r -0.606764 -0.459250 -1.358167  1.336416\n",
       "j  0.000000  1.000000  2.000000  3.000000\n",
       "k  1.000000  2.000000  3.000000  4.000000"
      ]
     },
     "execution_count": 31,
     "metadata": {},
     "output_type": "execute_result"
    }
   ],
   "source": [
    "df"
   ]
  }
 ],
 "metadata": {
  "kernelspec": {
   "display_name": "Python 3",
   "language": "python",
   "name": "python3"
  },
  "language_info": {
   "codemirror_mode": {
    "name": "ipython",
    "version": 3
   },
   "file_extension": ".py",
   "mimetype": "text/x-python",
   "name": "python",
   "nbconvert_exporter": "python",
   "pygments_lexer": "ipython3",
   "version": "3.7.3"
  }
 },
 "nbformat": 4,
 "nbformat_minor": 2
}
